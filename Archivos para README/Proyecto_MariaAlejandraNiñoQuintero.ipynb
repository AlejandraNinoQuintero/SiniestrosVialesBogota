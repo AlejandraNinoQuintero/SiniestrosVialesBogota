{
 "cells": [
  {
   "cell_type": "markdown",
   "id": "72fb7431",
   "metadata": {},
   "source": [
    "# Análisis de Siniestros Viales en Bogotá 2019\n",
    "## Población de análisis: menores de edad – entre 0 y 17 años por localidades"
   ]
  },
  {
   "cell_type": "markdown",
   "id": "077f69c5",
   "metadata": {},
   "source": [
    "#### Autora:  María Alejandra Niño Quintero\n",
    "#### Métodos Computacionales para Políticas Públicas\n",
    "#### Maestría en Economía de las Políticas Públicas\n",
    "#### Universidad del Rosario"
   ]
  },
  {
   "cell_type": "markdown",
   "id": "82ed829d",
   "metadata": {},
   "source": [
    "<img src =\"Siniestros 2015-2020.png\" alt=\"Elaboración propia\" title=\"Siniestros 2015-2020\" />"
   ]
  },
  {
   "cell_type": "markdown",
   "id": "e2ef6443",
   "metadata": {},
   "source": [
    "# Descripción y motivación:"
   ]
  },
  {
   "cell_type": "markdown",
   "id": "118db18d",
   "metadata": {},
   "source": [
    "Según cifras de la Secretaria de Movilidad de Bogotá entre 2015 y 2019 se presentaron en promedio 34 mil siniestros viales, lo que indica que cada 5 minutos ocurre un accidente en la ciudad (1). Esto representa un problema de salud pública para los gobiernos, pues según Fasecolda, en 2018 estos accidentes le costaron al Estado cerca de 3,6 billones de pesos (2). \n",
    "<br> Por otra parte, la Organización Mundial de la Salud indica que la principal causa de muerte entre los jóvenes de 15 a 29 años en el mundo se debe a los traumatismos por accidentes de tránsito (3).\n",
    "<br>Teniendo en cuenta lo anterior, y las noticias recientes (4) (5) (6) donde se han reportado accidentes de tránsito en la ciudad. \n",
    "<br> En este estudio se analizó los datos existentes sobre siniestros viales en la ciudad con el objetivo de determinar aspectos importantes que permitan la toma de decisiones para reducir esta cifra en la ciudad. Este análisis se puede hacer por diferentes poblaciones. En el presente estudi se escogió la población de menores de edad entre 0 y 17 años. Sin embargo existen otras poblaciones que pueden presentar condiciones difernetes como los ciclistas y los motociclistas.  \n",
    "\n",
    "Algunas preguntas que motivaron el análisis hecho fueron: \n",
    "\n",
    "1. Los gobiernos tienen que pagar un alto costo por los siniestros viales que ocurren en la ciudad y en general en el país, por lo cual se implementan diferentes medidas como la disminución de velocidad en las principales vías, se invierte en señalización entre otros que también genran un gasto. Sabiendo que se han tomado medidas que buscan reducir los accidentes viales ¿Por qué las cifras siguen siendo tan altas? incluso en el 2020, un año en el que de marzo a septiembre Colombia estuvo en cuarentena por el COVID 19 y la movilidad y el desplazamiento se restringieron, los accidentes superan los 20mil. \n",
    "\n",
    "2. Siendo la población jóven afectada por este problema al punto de representar su principal causa de muerte, ¿qué ocurre con los menores entre 0 y 17 años? ¿Dónde ocurren los accidentes donde esta población está involucrada en los accidentes?\n",
    "\n",
    "3. ¿Existe algun patrón en la accidentalidad de los menores? ¿Qué tan cerca a los colegios y zonas residenciales o parques se dan? ¿Qué tan importante es la educación vial para disminuir la cifra de accidentes?\n",
    "\n",
    "4. ¿Qué tan importante es la educación vial? ¿Cómo se puede evitar que los menores de edad sufran accidentes cuando se desplazan hacia el colegio o desde el colegio a sus viviendas?\n",
    "\n",
    "5. Si bien la principal causa de muerte de jóvenes entre 15 y 29 años de edad son los siniestros ¿Qué pasa con aquellos que quedan heridos y a quienes este tipo de eventos puede alterar el desarrollo normal de sus vidas?\n",
    "\n",
    "6. ¿Existe alguna difernecia en la accidnetalidad de menores según su género? "
   ]
  },
  {
   "cell_type": "markdown",
   "id": "66f98866",
   "metadata": {},
   "source": [
    "# Metodología usada:"
   ]
  },
  {
   "cell_type": "markdown",
   "id": "52fa3425",
   "metadata": {},
   "source": [
    "1. **EDA:** La data se descargó de Datos Abiertos de Bogotá, la cual estaba separada por siniestros, actores y vehículos. Por lo cual se requirió de un merge que permitiera relacionar el accidente y su información general con los accidentados y sus características. De igual manera era necesario hacer un merge con los vehículos. \n",
    "    - Dado este análisis explooratorio y la cantidad de siniestros ocurridos entre 2015 y 2020 (aproximadamente más de 600 mil) y que la tendencia ha sido muy similar desde 2015 en cuanto al número de accidentes se decide analizar el 2019 (no el 2020 debido a las medidas de distanciamiento social que restringieron la movilidad). \n",
    "    - Se filtra de manera tal que la base quede con toda la información para 2019 y para la población de estudio del análisis y por localidades de la ciudad. \n",
    "    - La información de los siniestros se descargaron de Datos Abierto de Bogotá con la geolocalización de las direcciones de los accidentes por lo cual permitía hacer un análisis geoespacial de los datos completos para menores de edad en 2019 (al rededor de 1900 siniestros)\n",
    "    - Se realizó en Pyhton.\n",
    "<br>\n",
    "\n",
    "2. **Análisis Geoespacial:** \n",
    "    - Una vez se obtuvo la data organziada se realizó un análisis geoespacial en Qgis versión 3.20.3\n",
    "    - El análisis se realizó en este orden:\n",
    "        - Población de Bogotá (Secretaría Distrital de Planeación (7)) vs Accidentalidad total por localidad. De manera tal que se pueda evidenciar si hay mayor accidentalidad en localidades con más población (sería lo esperado) o si existe alguna localidad donde a pensar de tener menor población hay una alta accidentalidad. \n",
    "        - Población de menores (proyección para 2019 - Secretaría Distrital de Planeación (8)) para hacer una comparación similar a la anterior pero para la población estudiada. \n",
    "        - Concentración de accidentes: mapa de calor con los accidentes viales de menores geocodificados de la base manipulada en Python.\n",
    "        - Con el análisis anterior se pueden identificar las localidades con mayor accidentalidad de menores, así como concentración de zonas. Por lo cual para estas localidades se ubican los colegios (IDECA (9)) y se realizan áreas de influencia de estos colegios a 100 y 200 metros para identificar cuantos accidentes ocurren es este rango. \n",
    "        - Estas áreas de influencia se hacen mediante buffer, para que se vean bien visualmente se hace con la opción de disolver - los buffer se convierten en nuevas capas en polígono. \n",
    "        - Para calcular el núemro de accidentes en las áreas de influencia, los buffer tienen la opción de generar para cada buffer la intersección, creando capas transitorias (no se pueden guardar) con el sub grupo de accidentes que cumplen la condición. \n",
    "<br>    \n",
    "\n",
    "3. **Análisis gráfico:**\n",
    "    - Se realizó en Tableau\n",
    "    - Se realizó con el objetivo de complementar el análisis geoespacial, debido a que para poder concluir si la cercanía de los accidentes a los colegios es necesario consederar temas como las horas en las que se dan los accidentes, la condición de los menores como peatones entre otras características. \n",
    "    - Se incluyó el género para revisar si hay alguna diferencia. "
   ]
  },
  {
   "attachments": {},
   "cell_type": "markdown",
   "id": "f6da1189",
   "metadata": {},
   "source": [
    "# Resultados: \n",
    "\n",
    "    - A pesar de diferentes políticas como la reducción de velocidad en las principales vías Bogotá, se mantiene una alta accidentalidad desde 2015.\n",
    "    - Los accidentes que involucran menores de edad en 2019 se concentran principalmente en las localidades de Kennedy, Ciudad Bolívar, Bosa, Suba y Engativá – las cuales a su vez tienen la mayor población de menores. \n",
    "    - En promedio el 33.7% de los accidentes de menores ocurren a 100 metros de colegios y el 63.2% a 200 metros de colegios en las localidades mencionadas. \n",
    "    - Los menores accidentados son principalmente peatones o pasajeros. \n",
    "    - Se evidencia una concentración de accidentes en la mayoría de localidades en horarios comprendidos entre la 1pm y las 7pm. \n",
    "    - En 15 de las 20 localidades más del 50% de los accidentados son hombres."
   ]
  },
  {
   "cell_type": "markdown",
   "id": "c011841d",
   "metadata": {},
   "source": [
    "## Población Bogotá 2019"
   ]
  },
  {
   "cell_type": "markdown",
   "id": "09ea6765",
   "metadata": {},
   "source": [
    "<img src =\"PoblacionMenores2019.png\" alt=\"Elaboración propia\" title=\"PoblacionMenores2019\" />"
   ]
  },
  {
   "cell_type": "markdown",
   "id": "6a435c09",
   "metadata": {},
   "source": [
    "## Accidentalidad Total Bogotá 2019"
   ]
  },
  {
   "cell_type": "markdown",
   "id": "b5f5f5da",
   "metadata": {},
   "source": [
    "<img src =\"AccidentalidadTotal2019.png\" alt=\"Elaboración propia\" title=\"AccidentalidadTotal2019\" />"
   ]
  },
  {
   "cell_type": "markdown",
   "id": "26964106",
   "metadata": {},
   "source": [
    "## Población Menores Bogotá 2019"
   ]
  },
  {
   "cell_type": "markdown",
   "id": "733a8cb2",
   "metadata": {},
   "source": [
    "<img src =\"PoblacionMenores2019.png\" alt=\"Elaboración propia\" title=\"PoblacionMenores2019\" />"
   ]
  },
  {
   "cell_type": "markdown",
   "id": "6acfacb0",
   "metadata": {},
   "source": [
    "## Accidentalidad Menores Bogotá 2019"
   ]
  },
  {
   "cell_type": "markdown",
   "id": "67906e2e",
   "metadata": {},
   "source": [
    "<img src =\"AccidentalidadMenores2019.png\" alt=\"Elaboración propia\" title=\"AccidentalidadMenores2019\" />"
   ]
  },
  {
   "cell_type": "markdown",
   "id": "43b85d4d",
   "metadata": {},
   "source": [
    "## Concentración Accidentes Menores 2019"
   ]
  },
  {
   "cell_type": "markdown",
   "id": "6a64ba25",
   "metadata": {},
   "source": [
    "<img src =\"ConcentracionAcc2019.png\" alt=\"Elaboración propia\" title=\"ConcentracionAcc2019\" />"
   ]
  },
  {
   "cell_type": "markdown",
   "id": "9a35ee04",
   "metadata": {},
   "source": [
    "## Áreas de Influencia"
   ]
  },
  {
   "cell_type": "markdown",
   "id": "5d3a2ef8",
   "metadata": {},
   "source": [
    "### Kennedy"
   ]
  },
  {
   "cell_type": "markdown",
   "id": "370867e5",
   "metadata": {},
   "source": [
    "<img src =\"Kennedy.png\" alt=\"Elaboración propia\" title=\"Kennedy\" />"
   ]
  },
  {
   "cell_type": "markdown",
   "id": "e9473a4a",
   "metadata": {},
   "source": [
    "### Bosa"
   ]
  },
  {
   "cell_type": "markdown",
   "id": "1b427e53",
   "metadata": {},
   "source": [
    "<img src =\"Bosa.png\" alt=\"Elaboración propia\" title=\"Bosa\" />"
   ]
  },
  {
   "cell_type": "markdown",
   "id": "62cd79dd",
   "metadata": {},
   "source": [
    "### Ciudad Bolivar"
   ]
  },
  {
   "cell_type": "markdown",
   "id": "f9744f07",
   "metadata": {},
   "source": [
    "<img src =\"CiudadBolivar.png\" alt=\"Elaboración propia\" title=\"CiudadBolivar\" />"
   ]
  },
  {
   "cell_type": "markdown",
   "id": "a491c2dc",
   "metadata": {},
   "source": [
    "### Engativá"
   ]
  },
  {
   "cell_type": "markdown",
   "id": "55154ffb",
   "metadata": {},
   "source": [
    "<img src =\"Engativa.png\" alt=\"Elaboración propia\" title=\"Engativa\" />"
   ]
  },
  {
   "cell_type": "markdown",
   "id": "83ef1f0a",
   "metadata": {},
   "source": [
    "### Suba"
   ]
  },
  {
   "cell_type": "markdown",
   "id": "f421f385",
   "metadata": {},
   "source": [
    "<img src =\"Suba.png\" alt=\"Elaboración propia\" title=\"Suba\" />"
   ]
  },
  {
   "cell_type": "markdown",
   "id": "a045fd92",
   "metadata": {},
   "source": [
    "<img src =\"Siniestros x localidad.png\" alt=\"Elaboración propia\" title=\"Siniestros x localidad\" />"
   ]
  },
  {
   "cell_type": "markdown",
   "id": "869ae236",
   "metadata": {},
   "source": [
    "<img src =\"Condicion.png\" alt=\"Elaboración propia\" title=\"Condicion\" />"
   ]
  },
  {
   "cell_type": "markdown",
   "id": "6e3484fe",
   "metadata": {},
   "source": [
    "<img src =\"Gravedad.png\" alt=\"Elaboración propia\" title=\"Gravedad\" />"
   ]
  },
  {
   "cell_type": "markdown",
   "id": "cf3e3689",
   "metadata": {},
   "source": [
    "<img src =\"Horas.png\" alt=\"Elaboración propia\" title=\"Horas\" />"
   ]
  },
  {
   "cell_type": "markdown",
   "id": "1e959a70",
   "metadata": {},
   "source": [
    "<img src =\"genero.png\" alt=\"Elaboración propia\" title=\"genero\" />"
   ]
  },
  {
   "cell_type": "markdown",
   "id": "54049d52",
   "metadata": {},
   "source": [
    "#### Nota: Todas las gráficas y mapas son de elaboración propia"
   ]
  },
  {
   "cell_type": "markdown",
   "id": "e5c27640",
   "metadata": {},
   "source": [
    "# Referencias: \n",
    "(1) https://www.eltiempo.com/datos/cifras-de-accidentes-y-muertes-por-accidentes-de-transito-en-bogota-578915#:~:text=Las%20cifras%20de%20la%20Secretar%C3%ADa,fue%202015%2C%20con%2031.341%20casos.\n",
    "<br>(2) https://www.portafolio.co/economia/accidentes-de-transito-cuestan-3-6-billones-a-la-seguridad-social-521678\n",
    "<br>(3) https://www.who.int/es/news/item/16-05-2017-more-than-1-2-million-adolescents-die-every-year-nearly-all-preventable\n",
    "<br>(4) https://www.eltiempo.com/bogota/siniestros-viales-en-bogota-empeoraron-en-2021-omar-orostegui-609390\n",
    "<br>(5) https://www.youtube.com/watch?v=T8z9dNT8MEw\n",
    "<br>(6) https://noticias.caracoltv.com/bogota/motociclista-murio-arrollado-por-culpa-de-un-hueco-en-vez-de-ayudarlo-lo-robaron-al-verlo-herido \n",
    "<br>(7)https://sdpbogota.maps.arcgis.com/apps/MapSeries/index.html?appid=baabe888c3ab42c6bb3d10d4eaa993c5\n",
    "<br>(8)http://www.sdp.gov.co/sites/default/files/boletin69.pdf \n",
    "<br>(9)https://www.ideca.gov.co/recursos/mapas/colegios-bogota-dc-ano-2020 "
   ]
  }
 ],
 "metadata": {
  "kernelspec": {
   "display_name": "Python 3",
   "language": "python",
   "name": "python3"
  },
  "language_info": {
   "codemirror_mode": {
    "name": "ipython",
    "version": 3
   },
   "file_extension": ".py",
   "mimetype": "text/x-python",
   "name": "python",
   "nbconvert_exporter": "python",
   "pygments_lexer": "ipython3",
   "version": "3.8.8"
  }
 },
 "nbformat": 4,
 "nbformat_minor": 5
}
